{
 "cells": [
  {
   "cell_type": "markdown",
   "metadata": {},
   "source": [
    "### Вы — аналитик крупного сервиса доставки еды. Вместе с отделом маркетинга вы провели эксперимент, который влияет на увеличение выручки.\n",
    "\n",
    "    Вариант А: экран оплаты без рекламного предложения \"Вам это пригодится\" \n",
    "    Вариант Б: экран оплаты с рекламным предложением \"Вам это пригодится\"\n",
    "\n",
    "### Вы провели A/B-тест и получили результаты, которые описаны в файлах orders.csv и visitors.csv.\n",
    "\n",
    "Файл orders.csv. \n",
    "\n",
    "    transactionId — идентификатор заказа;\n",
    "    visitorId — идентификатор пользователя, совершившего заказ;\n",
    "    date — дата, когда был совершён заказ;\n",
    "    revenue — выручка заказа;\n",
    "    group — группа A/B-теста, в которую попал заказ.\n",
    "\n",
    "Файл visitors.csv. Скачать датасет\n",
    "\n",
    "    date — дата;\n",
    "    group — группа A/B-теста;\n",
    "    visitors — количество пользователей в указанную дату в указанной группе A/B-теста\n",
    "\n",
    "Оцените результаты A/B-теста, сформулируйте вывод и добавьте рекомендации для отдела маркетинга.\n"
   ]
  },
  {
   "cell_type": "markdown",
   "metadata": {},
   "source": [
    "## Выводы\n",
    "\n",
    "### По данным аб-теста:\n",
    "\n",
    "    1. После очистки данных средние чеки в двух группах отличались на 206 рублей: 6,299 рублей в тестовой группе (видели баннер) и 6505 в контрольной (не видели баннер).\n",
    "    2. Анализ показал, что эта разница случайная. Значимой разницы средних чеков в двух группах, которые участвовали в эксперименте не обнаружила, поэтому мы не можем сказать, что наличие баннера в этом эксперименте повлияло на выручку. \n",
    "    3. 9 пользователей из 2 выборок я убрала, чтобы очистить выбрки от выбросов. Вот их ID и чеки, возможно, их стоит исследовать отдельно, потому что у них отличающийся покупательский паттерн. Возможно это ошибки. \n",
    "    \n",
    "           visitorId\t revenue\n",
    "    25\t 148427295\t 65710\n",
    "    209\t887908475\t 60450\n",
    "    211\t888512513\t 86620\n",
    "    276\t1164614297\t66350\n",
    "    309\t1307669133\t92550\n",
    "    453\t1920142716\t1294500\n",
    "    493\t2108080724\t202740\n",
    "    956\t4003628586\t58550\n",
    "    980\t4133034833\t67990\n",
    "\n",
    "### О том, как спроектирован эксперимент: \n",
    "\n",
    "\n",
    "     1. Из-за того, что было выбрано решение по сплитованию пользователей на слишком раннем этапе (вероятно, захода на сайт/в приложение), мы на выходе получили данные неравномерного распределения пользователей по группам. \n",
    "    \n",
    "        - в среднем количество наблюдений в выборках за каждый день разнятся в 1,3 раза \n",
    "        - из 30 дней только 7 показывают более-менее равномерное распределение наблюдений, поэтому я искусственно сократила и вычистила выборку. \n",
    "        \n",
    "     2. По текущим данным мы не знаем, как пользователи распределялись по устройствам, а возможно и по сегментам b2b, b2c, потому что у нас большой разброс средних чеков даже после чистки от выбросов от 50 рублей до 50 тысяч рублей. В таких экспериментах мы будем видеть значимую разницу на маленьких чеках и почти не увидим разницу на больших. \n",
    "        \n",
    "     3. По текущим результатам мы не знаем, какое количество пользователей взаимодействовали с баннером и изменилось ли что-то в их поведении после появления баннера: продолжили ли они покупки, зашли ли на сраницу с предложенным товаром. Эта информация будет ценной, если мы хотим исследовать новый маркетинговый инструмент. Текущие данные не позволяют нам понять, виделили пользователи баннер в принципе. \n",
    "        \n",
    "     4. Если наша гипотеза в том, что средний чек вырастет за счет того, что пользователи будут использовать рекомендованное предложение. АБ-тест не выглядит оптимальным инструментом для оценки эффективность этого баннера. АБ-тест подошел бы, например, если бы мы тестировали на таком баннере разные тексты, а если наша задача понять, кликают ли на баннер и покупают ли после, нам нужно\n",
    "        - выбрать целевые метрики, например, CTR и конверсию в покупку с баннера\n",
    "        - оценить технические затраты на поддержку такой рекомендательной системы. Возможно, нам придется нанять для нее 2 новых датасайнтистов, а профит будет минимальным. \n",
    "        - определить какая конверсия в покупку с баннера окупает затраты\n",
    "        - замерить метрики (возможно, воронку, если мы верим в эту гипотезу и готовы прокачивать результат на разных этапах воронки)\n",
    "\n",
    "\n",
    "### Рекомендации для маркетинга:\n",
    "\n",
    "    1. Выбрать другой способ проверки гипотезы о влиянии рекламного предложения \"Вам это пригодится\" на выручку. \n",
    "    2. Если есть возможность по итогам этого эксперимента получить больше данных о взаимодействии пользователя с баннером, использовать ее и проследить, как наличие баннера меняло поведение пользователя, в том числе чек корзины. \n",
    "    3. В будущем проектировании аб-тестов закладывать сплитование не только по группам, но и по устройствам, регионам (если есть), прошлому опыту в приложении. Это позволит сравнивать между собой более похожих и менее случайных пользователей. \n",
    "\n",
    "    \n",
    "# Aнализ результатов АБ-теста"
   ]
  },
  {
   "cell_type": "code",
   "execution_count": 1,
   "metadata": {},
   "outputs": [],
   "source": [
    "import pandas as pd\n",
    "import numpy as np\n",
    "from scipy import stats\n",
    "import matplotlib.pyplot as plt\n",
    "import seaborn as sns\n",
    "from scipy.stats import ttest_1samp, ttest_ind, norm,  t"
   ]
  },
  {
   "cell_type": "code",
   "execution_count": 2,
   "metadata": {},
   "outputs": [
    {
     "data": {
      "text/html": [
       "<div>\n",
       "<style scoped>\n",
       "    .dataframe tbody tr th:only-of-type {\n",
       "        vertical-align: middle;\n",
       "    }\n",
       "\n",
       "    .dataframe tbody tr th {\n",
       "        vertical-align: top;\n",
       "    }\n",
       "\n",
       "    .dataframe thead th {\n",
       "        text-align: right;\n",
       "    }\n",
       "</style>\n",
       "<table border=\"1\" class=\"dataframe\">\n",
       "  <thead>\n",
       "    <tr style=\"text-align: right;\">\n",
       "      <th></th>\n",
       "      <th>date</th>\n",
       "      <th>group</th>\n",
       "      <th>visitors</th>\n",
       "    </tr>\n",
       "  </thead>\n",
       "  <tbody>\n",
       "    <tr>\n",
       "      <th>0</th>\n",
       "      <td>2019-08-01</td>\n",
       "      <td>A</td>\n",
       "      <td>719</td>\n",
       "    </tr>\n",
       "    <tr>\n",
       "      <th>1</th>\n",
       "      <td>2019-08-02</td>\n",
       "      <td>A</td>\n",
       "      <td>619</td>\n",
       "    </tr>\n",
       "    <tr>\n",
       "      <th>2</th>\n",
       "      <td>2019-08-03</td>\n",
       "      <td>A</td>\n",
       "      <td>507</td>\n",
       "    </tr>\n",
       "    <tr>\n",
       "      <th>3</th>\n",
       "      <td>2019-08-04</td>\n",
       "      <td>A</td>\n",
       "      <td>717</td>\n",
       "    </tr>\n",
       "    <tr>\n",
       "      <th>4</th>\n",
       "      <td>2019-08-05</td>\n",
       "      <td>A</td>\n",
       "      <td>756</td>\n",
       "    </tr>\n",
       "  </tbody>\n",
       "</table>\n",
       "</div>"
      ],
      "text/plain": [
       "         date group  visitors\n",
       "0  2019-08-01     A       719\n",
       "1  2019-08-02     A       619\n",
       "2  2019-08-03     A       507\n",
       "3  2019-08-04     A       717\n",
       "4  2019-08-05     A       756"
      ]
     },
     "execution_count": 2,
     "metadata": {},
     "output_type": "execute_result"
    }
   ],
   "source": [
    "visitors_by_day = pd.read_csv('visitors.csv', sep = ',')\n",
    "visitors_by_day.head()"
   ]
  },
  {
   "cell_type": "code",
   "execution_count": 3,
   "metadata": {},
   "outputs": [
    {
     "name": "stdout",
     "output_type": "stream",
     "text": [
      "<class 'pandas.core.frame.DataFrame'>\n",
      "RangeIndex: 62 entries, 0 to 61\n",
      "Data columns (total 3 columns):\n",
      " #   Column    Non-Null Count  Dtype \n",
      "---  ------    --------------  ----- \n",
      " 0   date      62 non-null     object\n",
      " 1   group     62 non-null     object\n",
      " 2   visitors  62 non-null     int64 \n",
      "dtypes: int64(1), object(2)\n",
      "memory usage: 1.6+ KB\n"
     ]
    }
   ],
   "source": [
    "visitors_by_day.info()"
   ]
  },
  {
   "cell_type": "code",
   "execution_count": 4,
   "metadata": {},
   "outputs": [],
   "source": [
    "visitors_by_day['date'] = pd.to_datetime(visitors_by_day['date'])"
   ]
  },
  {
   "cell_type": "markdown",
   "metadata": {},
   "source": [
    "Посмотрим равномерность распределения пользователей по группам"
   ]
  },
  {
   "cell_type": "code",
   "execution_count": 5,
   "metadata": {},
   "outputs": [
    {
     "data": {
      "text/plain": [
       "group\n",
       "A    18736\n",
       "B    18916\n",
       "Name: visitors, dtype: int64"
      ]
     },
     "execution_count": 5,
     "metadata": {},
     "output_type": "execute_result"
    }
   ],
   "source": [
    "# общее кол-во юзеров в каждой группе\n",
    "\n",
    "visitors_by_day.groupby('group')['visitors'].sum()"
   ]
  },
  {
   "cell_type": "code",
   "execution_count": 6,
   "metadata": {},
   "outputs": [],
   "source": [
    "control = visitors_by_day.loc[visitors_by_day['group'] == 'A']\n",
    "test = visitors_by_day.loc[visitors_by_day['group'] == 'B']\n"
   ]
  },
  {
   "cell_type": "code",
   "execution_count": 7,
   "metadata": {
    "scrolled": true
   },
   "outputs": [
    {
     "data": {
      "image/png": "[encoded data removed]",
      "text/plain": [
       "<Figure size 1440x360 with 1 Axes>"
      ]
     },
     "metadata": {
      "needs_background": "light"
     },
     "output_type": "display_data"
    }
   ],
   "source": [
    "# распределение по дням\n",
    "\n",
    "plt.figure(figsize=(20, 5))\n",
    "plt.title('Распределение пользователей в группах по дням') \n",
    "plt.ylabel('Количество пользователей') \n",
    "plt.grid() \n",
    "\n",
    "plt.plot(control['date'], \n",
    "         control['visitors'],\n",
    "         label = 'control') \n",
    "plt.plot(test['date'],\n",
    "         test['visitors'],\n",
    "         label = 'test') \n",
    "\n",
    "plt.legend()\n",
    "plt.show() "
   ]
  },
  {
   "cell_type": "markdown",
   "metadata": {},
   "source": [
    "Если бы метрика, которую мы исследуем была привязана к заходу на сайт, с такими группами можно было бы работать, на глаз они достаточно сильно похожи. Но нам важно, как распределились пользователи уже в точке экперимента -- на экране оплаты. "
   ]
  },
  {
   "cell_type": "markdown",
   "metadata": {},
   "source": [
    "## Перейдем к проверке данных самого теста"
   ]
  },
  {
   "cell_type": "code",
   "execution_count": 8,
   "metadata": {},
   "outputs": [
    {
     "data": {
      "text/html": [
       "<div>\n",
       "<style scoped>\n",
       "    .dataframe tbody tr th:only-of-type {\n",
       "        vertical-align: middle;\n",
       "    }\n",
       "\n",
       "    .dataframe tbody tr th {\n",
       "        vertical-align: top;\n",
       "    }\n",
       "\n",
       "    .dataframe thead th {\n",
       "        text-align: right;\n",
       "    }\n",
       "</style>\n",
       "<table border=\"1\" class=\"dataframe\">\n",
       "  <thead>\n",
       "    <tr style=\"text-align: right;\">\n",
       "      <th></th>\n",
       "      <th>transactionId</th>\n",
       "      <th>visitorId</th>\n",
       "      <th>date</th>\n",
       "      <th>revenue</th>\n",
       "      <th>group</th>\n",
       "    </tr>\n",
       "  </thead>\n",
       "  <tbody>\n",
       "    <tr>\n",
       "      <th>0</th>\n",
       "      <td>3667963787</td>\n",
       "      <td>3312258926</td>\n",
       "      <td>2019-08-15</td>\n",
       "      <td>1650</td>\n",
       "      <td>B</td>\n",
       "    </tr>\n",
       "    <tr>\n",
       "      <th>1</th>\n",
       "      <td>2804400009</td>\n",
       "      <td>3642806036</td>\n",
       "      <td>2019-08-15</td>\n",
       "      <td>730</td>\n",
       "      <td>B</td>\n",
       "    </tr>\n",
       "    <tr>\n",
       "      <th>2</th>\n",
       "      <td>2961555356</td>\n",
       "      <td>4069496402</td>\n",
       "      <td>2019-08-15</td>\n",
       "      <td>400</td>\n",
       "      <td>A</td>\n",
       "    </tr>\n",
       "    <tr>\n",
       "      <th>3</th>\n",
       "      <td>3797467345</td>\n",
       "      <td>1196621759</td>\n",
       "      <td>2019-08-15</td>\n",
       "      <td>9759</td>\n",
       "      <td>B</td>\n",
       "    </tr>\n",
       "    <tr>\n",
       "      <th>4</th>\n",
       "      <td>2282983706</td>\n",
       "      <td>2322279887</td>\n",
       "      <td>2019-08-15</td>\n",
       "      <td>2308</td>\n",
       "      <td>B</td>\n",
       "    </tr>\n",
       "  </tbody>\n",
       "</table>\n",
       "</div>"
      ],
      "text/plain": [
       "   transactionId   visitorId        date  revenue group\n",
       "0     3667963787  3312258926  2019-08-15     1650     B\n",
       "1     2804400009  3642806036  2019-08-15      730     B\n",
       "2     2961555356  4069496402  2019-08-15      400     A\n",
       "3     3797467345  1196621759  2019-08-15     9759     B\n",
       "4     2282983706  2322279887  2019-08-15     2308     B"
      ]
     },
     "execution_count": 8,
     "metadata": {},
     "output_type": "execute_result"
    }
   ],
   "source": [
    "orders = pd.read_csv('orders.csv', sep = ',')\n",
    "orders.head()"
   ]
  },
  {
   "cell_type": "code",
   "execution_count": 9,
   "metadata": {},
   "outputs": [
    {
     "name": "stdout",
     "output_type": "stream",
     "text": [
      "<class 'pandas.core.frame.DataFrame'>\n",
      "RangeIndex: 1197 entries, 0 to 1196\n",
      "Data columns (total 5 columns):\n",
      " #   Column         Non-Null Count  Dtype \n",
      "---  ------         --------------  ----- \n",
      " 0   transactionId  1197 non-null   int64 \n",
      " 1   visitorId      1197 non-null   int64 \n",
      " 2   date           1197 non-null   object\n",
      " 3   revenue        1197 non-null   int64 \n",
      " 4   group          1197 non-null   object\n",
      "dtypes: int64(3), object(2)\n",
      "memory usage: 46.9+ KB\n"
     ]
    }
   ],
   "source": [
    "orders.info()"
   ]
  },
  {
   "cell_type": "code",
   "execution_count": 10,
   "metadata": {},
   "outputs": [],
   "source": [
    "# переведу даты в формат datetime\n",
    "\n",
    "orders['date'] = pd.to_datetime(orders['date'])"
   ]
  },
  {
   "cell_type": "markdown",
   "metadata": {},
   "source": [
    "Проверим качество распределения:\n",
    "    \n",
    "Частая проблема, что одни и те же пользователи несколько раз в разные группы"
   ]
  },
  {
   "cell_type": "code",
   "execution_count": 11,
   "metadata": {},
   "outputs": [
    {
     "data": {
      "text/plain": [
       "0.04845446950710108"
      ]
     },
     "execution_count": 11,
     "metadata": {},
     "output_type": "execute_result"
    }
   ],
   "source": [
    "user_by_group = orders.groupby('visitorId')['group'].nunique().reset_index()\n",
    "users_for_cleaning = user_by_group.loc[user_by_group['group'] > 1].count()\n",
    "\n",
    "#посмотрим в процентах, сколько дублей\n",
    "users_for_cleaning['visitorId']/orders['visitorId'].count()"
   ]
  },
  {
   "cell_type": "markdown",
   "metadata": {},
   "source": [
    "5% пользователей попали в обе группы. Для чистоты эксперимента стоит их удалить."
   ]
  },
  {
   "cell_type": "code",
   "execution_count": 12,
   "metadata": {},
   "outputs": [],
   "source": [
    "#выберу только подходящих юзеров\n",
    "\n",
    "users_one_group = user_by_group.loc[user_by_group['group'] == 1]\n",
    "#users_one_group "
   ]
  },
  {
   "cell_type": "code",
   "execution_count": 13,
   "metadata": {},
   "outputs": [],
   "source": [
    "# с помощью списака подходящих юзеров отфильтрую датасет теста\n",
    "\n",
    "clean_orders = pd.merge(users_one_group, orders,\n",
    "      how = 'left',\n",
    "      left_on = 'visitorId', right_on = 'visitorId')\n",
    "#clean_orders"
   ]
  },
  {
   "cell_type": "code",
   "execution_count": 14,
   "metadata": {},
   "outputs": [],
   "source": [
    "# выберу отдельно тестовую и контрольную группу, чтобы дальше анализировать эти выборки\n",
    "\n",
    "cntrl = clean_orders.loc[clean_orders['group_y'] == 'A']\n",
    "tst = clean_orders.loc[clean_orders['group_y'] == 'B']"
   ]
  },
  {
   "cell_type": "code",
   "execution_count": 15,
   "metadata": {},
   "outputs": [
    {
     "name": "stdout",
     "output_type": "stream",
     "text": [
      "<class 'pandas.core.frame.DataFrame'>\n",
      "Int64Index: 468 entries, 2 to 1012\n",
      "Data columns (total 6 columns):\n",
      " #   Column         Non-Null Count  Dtype         \n",
      "---  ------         --------------  -----         \n",
      " 0   visitorId      468 non-null    int64         \n",
      " 1   group_x        468 non-null    int64         \n",
      " 2   transactionId  468 non-null    int64         \n",
      " 3   date           468 non-null    datetime64[ns]\n",
      " 4   revenue        468 non-null    int64         \n",
      " 5   group_y        468 non-null    object        \n",
      "dtypes: datetime64[ns](1), int64(4), object(1)\n",
      "memory usage: 25.6+ KB\n"
     ]
    }
   ],
   "source": [
    "cntrl.info()"
   ]
  },
  {
   "cell_type": "code",
   "execution_count": 16,
   "metadata": {},
   "outputs": [],
   "source": [
    "#посмотрим распределение по дням\n",
    "\n",
    "cntrl_count = cntrl.groupby(cntrl['date'].dt.day).transactionId.count()\n",
    "tst_count = tst.groupby(tst['date'].dt.day).transactionId.count()"
   ]
  },
  {
   "cell_type": "code",
   "execution_count": 17,
   "metadata": {},
   "outputs": [
    {
     "data": {
      "image/png": "[encoded data removed]",
      "text/plain": [
       "<Figure size 1440x360 with 1 Axes>"
      ]
     },
     "metadata": {
      "needs_background": "light"
     },
     "output_type": "display_data"
    }
   ],
   "source": [
    "# распределение по дням пользователей в группах\n",
    "\n",
    "plt.figure(figsize=(20, 5))\n",
    "plt.title('Распределение пользователей в группах по дням') \n",
    "plt.ylabel('Количество пользователей') \n",
    "plt.grid() \n",
    "\n",
    "plt.plot(cntrl_count,\n",
    "         label = 'control') \n",
    "plt.plot(tst_count,\n",
    "         label = 'test') \n",
    "\n",
    "plt.legend()\n",
    "plt.show() "
   ]
  },
  {
   "cell_type": "markdown",
   "metadata": {},
   "source": [
    "### Очень плохо выглядит распределение по дням. \n",
    "\n",
    "Судя по всему, распределение пользователей в этот тест происходило не на этапе экрана оплаты, на на этапе захода на сайт. И это не обеспечило ежедневную единообразность выборок.\n",
    "\n",
    "Есть два способа:\n",
    "1. Перезапустить тест с другим алгоритмом сплитования\n",
    "2. Почистить текущие данные и попробовать на них сделать выводы\n",
    "\n",
    "Дальнейшие выводы по тесту должны обязательно быть с оговоркой, что распределение пользователей между группами неравномерное и мы колдуем, чтобы это исправить. "
   ]
  },
  {
   "cell_type": "code",
   "execution_count": 18,
   "metadata": {},
   "outputs": [
    {
     "data": {
      "text/plain": [
       "1.3139399720618594"
      ]
     },
     "execution_count": 18,
     "metadata": {},
     "output_type": "execute_result"
    }
   ],
   "source": [
    "# в среднем количество наблюдений в выборках за каждый день разнятся в 1,5 раза, \n",
    "# из 30 дней только 7 показывают более-менее равномерное распределение наблюдений \n",
    "\n",
    "diff = tst_count/cntrl_count\n",
    "diff.mean()"
   ]
  },
  {
   "cell_type": "markdown",
   "metadata": {},
   "source": [
    "## Посмотрим на средний чек, ведь именно его увеличение мы и проверяем экспериментом"
   ]
  },
  {
   "cell_type": "markdown",
   "metadata": {},
   "source": [
    "Посмотрим, как распределились данные чеков, нет ли выбросов"
   ]
  },
  {
   "cell_type": "code",
   "execution_count": 19,
   "metadata": {},
   "outputs": [
    {
     "data": {
      "text/plain": [
       "<matplotlib.axes._subplots.AxesSubplot at 0x16557e30b20>"
      ]
     },
     "execution_count": 19,
     "metadata": {},
     "output_type": "execute_result"
    },
    {
     "data": {
      "image/png": "[encoded data removed]",
      "text/plain": [
       "<Figure size 432x288 with 1 Axes>"
      ]
     },
     "metadata": {
      "needs_background": "light"
     },
     "output_type": "display_data"
    }
   ],
   "source": [
    "clean_orders['revenue'].plot()  # Достаточно примитивного графика, чтобы увидеть 2 оплаты, которые очень сильно выбиваются"
   ]
  },
  {
   "cell_type": "code",
   "execution_count": 20,
   "metadata": {},
   "outputs": [
    {
     "data": {
      "text/html": [
       "<div>\n",
       "<style scoped>\n",
       "    .dataframe tbody tr th:only-of-type {\n",
       "        vertical-align: middle;\n",
       "    }\n",
       "\n",
       "    .dataframe tbody tr th {\n",
       "        vertical-align: top;\n",
       "    }\n",
       "\n",
       "    .dataframe thead th {\n",
       "        text-align: right;\n",
       "    }\n",
       "</style>\n",
       "<table border=\"1\" class=\"dataframe\">\n",
       "  <thead>\n",
       "    <tr style=\"text-align: right;\">\n",
       "      <th></th>\n",
       "      <th>visitorId</th>\n",
       "      <th>group_x</th>\n",
       "      <th>transactionId</th>\n",
       "      <th>date</th>\n",
       "      <th>revenue</th>\n",
       "      <th>group_y</th>\n",
       "    </tr>\n",
       "  </thead>\n",
       "  <tbody>\n",
       "    <tr>\n",
       "      <th>980</th>\n",
       "      <td>4133034833</td>\n",
       "      <td>1</td>\n",
       "      <td>3603576309</td>\n",
       "      <td>2019-08-09</td>\n",
       "      <td>67990</td>\n",
       "      <td>A</td>\n",
       "    </tr>\n",
       "    <tr>\n",
       "      <th>211</th>\n",
       "      <td>888512513</td>\n",
       "      <td>1</td>\n",
       "      <td>3668308183</td>\n",
       "      <td>2019-08-27</td>\n",
       "      <td>86620</td>\n",
       "      <td>B</td>\n",
       "    </tr>\n",
       "    <tr>\n",
       "      <th>309</th>\n",
       "      <td>1307669133</td>\n",
       "      <td>1</td>\n",
       "      <td>666610489</td>\n",
       "      <td>2019-08-13</td>\n",
       "      <td>92550</td>\n",
       "      <td>A</td>\n",
       "    </tr>\n",
       "    <tr>\n",
       "      <th>493</th>\n",
       "      <td>2108080724</td>\n",
       "      <td>1</td>\n",
       "      <td>3936777065</td>\n",
       "      <td>2019-08-15</td>\n",
       "      <td>202740</td>\n",
       "      <td>B</td>\n",
       "    </tr>\n",
       "    <tr>\n",
       "      <th>453</th>\n",
       "      <td>1920142716</td>\n",
       "      <td>1</td>\n",
       "      <td>590470918</td>\n",
       "      <td>2019-08-19</td>\n",
       "      <td>1294500</td>\n",
       "      <td>B</td>\n",
       "    </tr>\n",
       "  </tbody>\n",
       "</table>\n",
       "</div>"
      ],
      "text/plain": [
       "      visitorId  group_x  transactionId       date  revenue group_y\n",
       "980  4133034833        1     3603576309 2019-08-09    67990       A\n",
       "211   888512513        1     3668308183 2019-08-27    86620       B\n",
       "309  1307669133        1      666610489 2019-08-13    92550       A\n",
       "493  2108080724        1     3936777065 2019-08-15   202740       B\n",
       "453  1920142716        1      590470918 2019-08-19  1294500       B"
      ]
     },
     "execution_count": 20,
     "metadata": {},
     "output_type": "execute_result"
    }
   ],
   "source": [
    "# посмотрим на них\n",
    "\n",
    "clean_orders.sort_values(by = 'revenue').tail()"
   ]
  },
  {
   "cell_type": "markdown",
   "metadata": {},
   "source": [
    "Я думаю, что лучше убрать их из анализа, потому что единичные значения в сотню раз отличающиеся от средних добавляют слишком много шума в десперсию\n",
    "\n",
    "Для больше честности, я хочу корректировать не отдельные значения, а все данные эксперимента. В нашем случае я хочу отрезать 1% выбивающихся значений из обеих выборок. "
   ]
  },
  {
   "cell_type": "code",
   "execution_count": 21,
   "metadata": {},
   "outputs": [
    {
     "data": {
      "text/plain": [
       "53904.0"
      ]
     },
     "execution_count": 21,
     "metadata": {},
     "output_type": "execute_result"
    }
   ],
   "source": [
    "# Возьму для этого 99 персентиль\n",
    "\n",
    "perc_99 = np.percentile(clean_orders['revenue'], 99)\n",
    "perc_99"
   ]
  },
  {
   "cell_type": "code",
   "execution_count": 22,
   "metadata": {},
   "outputs": [
    {
     "data": {
      "text/html": [
       "<div>\n",
       "<style scoped>\n",
       "    .dataframe tbody tr th:only-of-type {\n",
       "        vertical-align: middle;\n",
       "    }\n",
       "\n",
       "    .dataframe tbody tr th {\n",
       "        vertical-align: top;\n",
       "    }\n",
       "\n",
       "    .dataframe thead th {\n",
       "        text-align: right;\n",
       "    }\n",
       "</style>\n",
       "<table border=\"1\" class=\"dataframe\">\n",
       "  <thead>\n",
       "    <tr style=\"text-align: right;\">\n",
       "      <th></th>\n",
       "      <th>visitorId</th>\n",
       "      <th>group_x</th>\n",
       "      <th>transactionId</th>\n",
       "      <th>date</th>\n",
       "      <th>revenue</th>\n",
       "      <th>group_y</th>\n",
       "    </tr>\n",
       "  </thead>\n",
       "  <tbody>\n",
       "    <tr>\n",
       "      <th>25</th>\n",
       "      <td>148427295</td>\n",
       "      <td>1</td>\n",
       "      <td>316924019</td>\n",
       "      <td>2019-08-12</td>\n",
       "      <td>65710</td>\n",
       "      <td>A</td>\n",
       "    </tr>\n",
       "    <tr>\n",
       "      <th>209</th>\n",
       "      <td>887908475</td>\n",
       "      <td>1</td>\n",
       "      <td>1347999392</td>\n",
       "      <td>2019-08-21</td>\n",
       "      <td>60450</td>\n",
       "      <td>A</td>\n",
       "    </tr>\n",
       "    <tr>\n",
       "      <th>211</th>\n",
       "      <td>888512513</td>\n",
       "      <td>1</td>\n",
       "      <td>3668308183</td>\n",
       "      <td>2019-08-27</td>\n",
       "      <td>86620</td>\n",
       "      <td>B</td>\n",
       "    </tr>\n",
       "    <tr>\n",
       "      <th>276</th>\n",
       "      <td>1164614297</td>\n",
       "      <td>1</td>\n",
       "      <td>1348774318</td>\n",
       "      <td>2019-08-12</td>\n",
       "      <td>66350</td>\n",
       "      <td>A</td>\n",
       "    </tr>\n",
       "    <tr>\n",
       "      <th>309</th>\n",
       "      <td>1307669133</td>\n",
       "      <td>1</td>\n",
       "      <td>666610489</td>\n",
       "      <td>2019-08-13</td>\n",
       "      <td>92550</td>\n",
       "      <td>A</td>\n",
       "    </tr>\n",
       "    <tr>\n",
       "      <th>453</th>\n",
       "      <td>1920142716</td>\n",
       "      <td>1</td>\n",
       "      <td>590470918</td>\n",
       "      <td>2019-08-19</td>\n",
       "      <td>1294500</td>\n",
       "      <td>B</td>\n",
       "    </tr>\n",
       "    <tr>\n",
       "      <th>493</th>\n",
       "      <td>2108080724</td>\n",
       "      <td>1</td>\n",
       "      <td>3936777065</td>\n",
       "      <td>2019-08-15</td>\n",
       "      <td>202740</td>\n",
       "      <td>B</td>\n",
       "    </tr>\n",
       "    <tr>\n",
       "      <th>956</th>\n",
       "      <td>4003628586</td>\n",
       "      <td>1</td>\n",
       "      <td>2420050534</td>\n",
       "      <td>2019-08-08</td>\n",
       "      <td>58550</td>\n",
       "      <td>B</td>\n",
       "    </tr>\n",
       "    <tr>\n",
       "      <th>980</th>\n",
       "      <td>4133034833</td>\n",
       "      <td>1</td>\n",
       "      <td>3603576309</td>\n",
       "      <td>2019-08-09</td>\n",
       "      <td>67990</td>\n",
       "      <td>A</td>\n",
       "    </tr>\n",
       "  </tbody>\n",
       "</table>\n",
       "</div>"
      ],
      "text/plain": [
       "      visitorId  group_x  transactionId       date  revenue group_y\n",
       "25    148427295        1      316924019 2019-08-12    65710       A\n",
       "209   887908475        1     1347999392 2019-08-21    60450       A\n",
       "211   888512513        1     3668308183 2019-08-27    86620       B\n",
       "276  1164614297        1     1348774318 2019-08-12    66350       A\n",
       "309  1307669133        1      666610489 2019-08-13    92550       A\n",
       "453  1920142716        1      590470918 2019-08-19  1294500       B\n",
       "493  2108080724        1     3936777065 2019-08-15   202740       B\n",
       "956  4003628586        1     2420050534 2019-08-08    58550       B\n",
       "980  4133034833        1     3603576309 2019-08-09    67990       A"
      ]
     },
     "execution_count": 22,
     "metadata": {},
     "output_type": "execute_result"
    }
   ],
   "source": [
    "# посмотрим, какие значения ушли из выборок и как они распределены. \n",
    "# Нет ли такого, что все крупные значения в одной выборке\n",
    "\n",
    "clean_orders.loc[clean_orders['revenue'] > perc_99]"
   ]
  },
  {
   "cell_type": "code",
   "execution_count": 23,
   "metadata": {},
   "outputs": [
    {
     "data": {
      "text/html": [
       "<div>\n",
       "<style scoped>\n",
       "    .dataframe tbody tr th:only-of-type {\n",
       "        vertical-align: middle;\n",
       "    }\n",
       "\n",
       "    .dataframe tbody tr th {\n",
       "        vertical-align: top;\n",
       "    }\n",
       "\n",
       "    .dataframe thead th {\n",
       "        text-align: right;\n",
       "    }\n",
       "</style>\n",
       "<table border=\"1\" class=\"dataframe\">\n",
       "  <thead>\n",
       "    <tr style=\"text-align: right;\">\n",
       "      <th></th>\n",
       "      <th>visitorId</th>\n",
       "      <th>revenue</th>\n",
       "    </tr>\n",
       "  </thead>\n",
       "  <tbody>\n",
       "    <tr>\n",
       "      <th>25</th>\n",
       "      <td>148427295</td>\n",
       "      <td>65710</td>\n",
       "    </tr>\n",
       "    <tr>\n",
       "      <th>209</th>\n",
       "      <td>887908475</td>\n",
       "      <td>60450</td>\n",
       "    </tr>\n",
       "    <tr>\n",
       "      <th>211</th>\n",
       "      <td>888512513</td>\n",
       "      <td>86620</td>\n",
       "    </tr>\n",
       "    <tr>\n",
       "      <th>276</th>\n",
       "      <td>1164614297</td>\n",
       "      <td>66350</td>\n",
       "    </tr>\n",
       "    <tr>\n",
       "      <th>309</th>\n",
       "      <td>1307669133</td>\n",
       "      <td>92550</td>\n",
       "    </tr>\n",
       "    <tr>\n",
       "      <th>453</th>\n",
       "      <td>1920142716</td>\n",
       "      <td>1294500</td>\n",
       "    </tr>\n",
       "    <tr>\n",
       "      <th>493</th>\n",
       "      <td>2108080724</td>\n",
       "      <td>202740</td>\n",
       "    </tr>\n",
       "    <tr>\n",
       "      <th>956</th>\n",
       "      <td>4003628586</td>\n",
       "      <td>58550</td>\n",
       "    </tr>\n",
       "    <tr>\n",
       "      <th>980</th>\n",
       "      <td>4133034833</td>\n",
       "      <td>67990</td>\n",
       "    </tr>\n",
       "  </tbody>\n",
       "</table>\n",
       "</div>"
      ],
      "text/plain": [
       "      visitorId  revenue\n",
       "25    148427295    65710\n",
       "209   887908475    60450\n",
       "211   888512513    86620\n",
       "276  1164614297    66350\n",
       "309  1307669133    92550\n",
       "453  1920142716  1294500\n",
       "493  2108080724   202740\n",
       "956  4003628586    58550\n",
       "980  4133034833    67990"
      ]
     },
     "execution_count": 23,
     "metadata": {},
     "output_type": "execute_result"
    }
   ],
   "source": [
    "clean_orders[['visitorId', 'revenue']].loc[clean_orders['revenue'] > perc_99]"
   ]
  },
  {
   "cell_type": "code",
   "execution_count": 24,
   "metadata": {},
   "outputs": [
    {
     "name": "stderr",
     "output_type": "stream",
     "text": [
      "<ipython-input-24-7a66fd89703c>:3: SettingWithCopyWarning: \n",
      "A value is trying to be set on a copy of a slice from a DataFrame.\n",
      "Try using .loc[row_indexer,col_indexer] = value instead\n",
      "\n",
      "See the caveats in the documentation: https://pandas.pydata.org/pandas-docs/stable/user_guide/indexing.html#returning-a-view-versus-a-copy\n",
      "  tst['revenue'] = tst['revenue'].loc[tst['revenue'] <= perc_99]\n",
      "<ipython-input-24-7a66fd89703c>:4: SettingWithCopyWarning: \n",
      "A value is trying to be set on a copy of a slice from a DataFrame.\n",
      "Try using .loc[row_indexer,col_indexer] = value instead\n",
      "\n",
      "See the caveats in the documentation: https://pandas.pydata.org/pandas-docs/stable/user_guide/indexing.html#returning-a-view-versus-a-copy\n",
      "  cntrl['revenue'] = cntrl['revenue'].sort_values().loc[cntrl['revenue'] <= perc_99]\n"
     ]
    }
   ],
   "source": [
    "# оставляем в столбце с чеками только значения, входящие в 99%\n",
    "\n",
    "tst['revenue'] = tst['revenue'].loc[tst['revenue'] <= perc_99]\n",
    "cntrl['revenue'] = cntrl['revenue'].sort_values().loc[cntrl['revenue'] <= perc_99]"
   ]
  },
  {
   "cell_type": "code",
   "execution_count": 25,
   "metadata": {},
   "outputs": [
    {
     "name": "stderr",
     "output_type": "stream",
     "text": [
      "<ipython-input-25-a053d001fe33>:3: SettingWithCopyWarning: \n",
      "A value is trying to be set on a copy of a slice from a DataFrame\n",
      "\n",
      "See the caveats in the documentation: https://pandas.pydata.org/pandas-docs/stable/user_guide/indexing.html#returning-a-view-versus-a-copy\n",
      "  cntrl.dropna(inplace = True)\n",
      "<ipython-input-25-a053d001fe33>:4: SettingWithCopyWarning: \n",
      "A value is trying to be set on a copy of a slice from a DataFrame\n",
      "\n",
      "See the caveats in the documentation: https://pandas.pydata.org/pandas-docs/stable/user_guide/indexing.html#returning-a-view-versus-a-copy\n",
      "  tst.dropna(inplace = True)\n"
     ]
    }
   ],
   "source": [
    "# удаляем строки, где встречаются наши 9 выбросов\n",
    "\n",
    "cntrl.dropna(inplace = True)\n",
    "tst.dropna(inplace = True)"
   ]
  },
  {
   "cell_type": "markdown",
   "metadata": {},
   "source": [
    "Наши выборки готовы, нет выбросов и дублей. "
   ]
  },
  {
   "cell_type": "code",
   "execution_count": 26,
   "metadata": {},
   "outputs": [
    {
     "name": "stdout",
     "output_type": "stream",
     "text": [
      "<class 'pandas.core.frame.DataFrame'>\n",
      "Int64Index: 463 entries, 2 to 1012\n",
      "Data columns (total 6 columns):\n",
      " #   Column         Non-Null Count  Dtype         \n",
      "---  ------         --------------  -----         \n",
      " 0   visitorId      463 non-null    int64         \n",
      " 1   group_x        463 non-null    int64         \n",
      " 2   transactionId  463 non-null    int64         \n",
      " 3   date           463 non-null    datetime64[ns]\n",
      " 4   revenue        463 non-null    float64       \n",
      " 5   group_y        463 non-null    object        \n",
      "dtypes: datetime64[ns](1), float64(1), int64(3), object(1)\n",
      "memory usage: 25.3+ KB\n"
     ]
    }
   ],
   "source": [
    "cntrl.info()"
   ]
  },
  {
   "cell_type": "code",
   "execution_count": 27,
   "metadata": {},
   "outputs": [
    {
     "name": "stdout",
     "output_type": "stream",
     "text": [
      "<class 'pandas.core.frame.DataFrame'>\n",
      "Int64Index: 544 entries, 0 to 1015\n",
      "Data columns (total 6 columns):\n",
      " #   Column         Non-Null Count  Dtype         \n",
      "---  ------         --------------  -----         \n",
      " 0   visitorId      544 non-null    int64         \n",
      " 1   group_x        544 non-null    int64         \n",
      " 2   transactionId  544 non-null    int64         \n",
      " 3   date           544 non-null    datetime64[ns]\n",
      " 4   revenue        544 non-null    float64       \n",
      " 5   group_y        544 non-null    object        \n",
      "dtypes: datetime64[ns](1), float64(1), int64(3), object(1)\n",
      "memory usage: 29.8+ KB\n"
     ]
    }
   ],
   "source": [
    "tst.info()"
   ]
  },
  {
   "cell_type": "markdown",
   "metadata": {},
   "source": [
    "### Уравняем выборки по дням\n",
    "\n",
    "Так как сравнивать выборки с разной динамикой набора противоречит правилам аб-теста, есть идея уравнять выборки, взяв из каждой случайное количество минимальных наблюдений за каждый день. \n"
   ]
  },
  {
   "cell_type": "code",
   "execution_count": 28,
   "metadata": {},
   "outputs": [
    {
     "name": "stdout",
     "output_type": "stream",
     "text": [
      "407\n",
      "407\n"
     ]
    }
   ],
   "source": [
    "# возьму уникальный набор дат\n",
    "date_unique = set(cntrl['date'].values)\n",
    "\n",
    "# два списка, в которые буду собирать итоговые значения ретеншнов.\n",
    "reduset_ctrl_lst = np.array([])\n",
    "reduset_tst_lst = np.array([])\n",
    "sum_date = 0\n",
    "\n",
    "# заведу цикл, который обрабатывает каждую дату\n",
    "for i in date_unique:\n",
    "    i_date_ctrl = cntrl.loc[cntrl['date'] == i]\n",
    "    i_date_tst = tst.loc[tst['date'] == i]\n",
    "    i_date_ctrl.count()\n",
    "    \n",
    "# посмотрим, какая из выборок дала меньшее количество наблюдений за каждый день   \n",
    "    min_date = min(i_date_ctrl['transactionId'].count(), i_date_tst['transactionId'].count())    \n",
    "\n",
    "# в каждый список положим то, количество случайных значений из выборки на дату,\n",
    "# которое соответствует минимальному количеству наблюдений из двух выборок.\n",
    "    reduset_ctrl = cntrl.loc[cntrl['date'] == i].sample(min_date)['revenue']\n",
    "#     print(reduset_ctrl)\n",
    "    reduset_ctrl_lst = np.append(reduset_ctrl,reduset_ctrl_lst)\n",
    "    reduset_tst = tst.loc[tst['date'] == i].sample(min_date)['revenue']\n",
    "#     print(reduset_tst)\n",
    "    reduset_tst_lst = np.append(reduset_tst,reduset_tst_lst)\n",
    "    \n",
    "# проверим, что наши выборки равны\n",
    "print(len(reduset_ctrl_lst))\n",
    "print(len(reduset_tst_lst))\n",
    "\n",
    "\n",
    "\n",
    "    "
   ]
  },
  {
   "cell_type": "markdown",
   "metadata": {},
   "source": [
    "Посмотрим снова на основные статистики двух выборок, обрезав 1% всех выбросов эксперимента"
   ]
  },
  {
   "cell_type": "code",
   "execution_count": 29,
   "metadata": {},
   "outputs": [],
   "source": [
    "# вернет значения статистик в удобном формате\n",
    "\n",
    "pd.options.display.float_format = '{:,.4f}'.format"
   ]
  },
  {
   "cell_type": "code",
   "execution_count": 30,
   "metadata": {},
   "outputs": [
    {
     "data": {
      "text/plain": [
       "mean    6,298.8272\n",
       "std     8,519.5793\n",
       "max    53,904.0000\n",
       "min        50.0000\n",
       "Name: revenue, dtype: float64"
      ]
     },
     "execution_count": 30,
     "metadata": {},
     "output_type": "execute_result"
    }
   ],
   "source": [
    "tst['revenue'].agg(['mean', 'std', 'max', 'min'])"
   ]
  },
  {
   "cell_type": "code",
   "execution_count": 31,
   "metadata": {},
   "outputs": [
    {
     "data": {
      "text/plain": [
       "mean    6,504.5486\n",
       "std     8,945.4322\n",
       "max    53,904.0000\n",
       "min        50.0000\n",
       "Name: revenue, dtype: float64"
      ]
     },
     "execution_count": 31,
     "metadata": {},
     "output_type": "execute_result"
    }
   ],
   "source": [
    "cntrl['revenue'].agg(['mean', 'std', 'max', 'min'])"
   ]
  },
  {
   "cell_type": "markdown",
   "metadata": {},
   "source": [
    "Средний чек тестовой выборки ниже, это уже не позволяет отвергнуть нулевую гипотезу о том, что изменение на сайте не приведет к значимому увеличению чека.\n",
    "\n",
    "Но ничто не мешает нам проверить статзначимость текущей разницы. Действительно ли нововведение ухудшает средний чек. \n",
    "\n",
    "Посмотрим, как теперь выглядят распределения"
   ]
  },
  {
   "cell_type": "code",
   "execution_count": 32,
   "metadata": {},
   "outputs": [
    {
     "data": {
      "image/png": "[encoded data removed]",
      "text/plain": [
       "<Figure size 720x360 with 1 Axes>"
      ]
     },
     "metadata": {
      "needs_background": "light"
     },
     "output_type": "display_data"
    }
   ],
   "source": [
    "plt.figure(figsize=(10, 5))\n",
    "plt.title('Распределение средних чеков') \n",
    "plt.xlabel('Сумма чека') \n",
    "plt.ylabel('Количество оплат') \n",
    "\n",
    "plt.grid()\n",
    "\n",
    "plt.hist(tst['revenue'], \n",
    "         density=True,\n",
    "         alpha = 0.4, \n",
    "         bins=50, \n",
    "         color = 'blue',\n",
    "        label = 'test') \n",
    "plt.hist(cntrl['revenue'], \n",
    "         density=True,\n",
    "         alpha = 0.4, \n",
    "         bins=50, \n",
    "         color = 'orange',\n",
    "        label = 'control')\n",
    "\n",
    "plt.legend()\n",
    "plt.show()"
   ]
  },
  {
   "cell_type": "markdown",
   "metadata": {},
   "source": [
    "# Анализ с уравненными выборками\n",
    "\n",
    "Для сравнения средних чеков я возьму метод бутстрап. \n",
    "\n",
    "Он хорошо подходит для недискретных метрик с большим разбросом, как в нашем случае\n",
    "\n",
    "Сейчас мы будем передавать в критерий не полные выборки, а те, что подготовили чуть выше, где на каждый день в обеих группах одинаковое количество наблюдений."
   ]
  },
  {
   "cell_type": "code",
   "execution_count": 33,
   "metadata": {},
   "outputs": [
    {
     "name": "stdout",
     "output_type": "stream",
     "text": [
      "Requirement already satisfied: bootstrapped in c:\\users\\risenroad\\anaconda3\\lib\\site-packages (0.0.2)\n",
      "Requirement already satisfied: numpy>=1.11.1 in c:\\users\\risenroad\\anaconda3\\lib\\site-packages (from bootstrapped) (1.18.5)\n",
      "Requirement already satisfied: pandas>=0.18.1 in c:\\users\\risenroad\\anaconda3\\lib\\site-packages (from bootstrapped) (1.0.5)\n",
      "Requirement already satisfied: matplotlib>=1.5.3 in c:\\users\\risenroad\\anaconda3\\lib\\site-packages (from bootstrapped) (3.2.2)\n",
      "Requirement already satisfied: pytz>=2017.2 in c:\\users\\risenroad\\anaconda3\\lib\\site-packages (from pandas>=0.18.1->bootstrapped) (2020.1)\n",
      "Requirement already satisfied: python-dateutil>=2.6.1 in c:\\users\\risenroad\\anaconda3\\lib\\site-packages (from pandas>=0.18.1->bootstrapped) (2.8.1)\n",
      "Requirement already satisfied: pyparsing!=2.0.4,!=2.1.2,!=2.1.6,>=2.0.1 in c:\\users\\risenroad\\anaconda3\\lib\\site-packages (from matplotlib>=1.5.3->bootstrapped) (2.4.7)\n",
      "Requirement already satisfied: kiwisolver>=1.0.1 in c:\\users\\risenroad\\anaconda3\\lib\\site-packages (from matplotlib>=1.5.3->bootstrapped) (1.2.0)\n",
      "Requirement already satisfied: cycler>=0.10 in c:\\users\\risenroad\\anaconda3\\lib\\site-packages (from matplotlib>=1.5.3->bootstrapped) (0.10.0)\n",
      "Requirement already satisfied: six>=1.5 in c:\\users\\risenroad\\anaconda3\\lib\\site-packages (from python-dateutil>=2.6.1->pandas>=0.18.1->bootstrapped) (1.15.0)\n"
     ]
    }
   ],
   "source": [
    "!pip install bootstrapped"
   ]
  },
  {
   "cell_type": "code",
   "execution_count": 34,
   "metadata": {},
   "outputs": [],
   "source": [
    "# импортируем необходимые модули\n",
    "import bootstrapped.bootstrap as bs\n",
    "import bootstrapped.stats_functions as bs_stats\n",
    "import bootstrapped.compare_functions as bs_compare"
   ]
  },
  {
   "cell_type": "code",
   "execution_count": 35,
   "metadata": {},
   "outputs": [],
   "source": [
    "# reduset_ctrl_lst = reduset_ctrl_lst[np.logical_not(np.isnan(reduset_ctrl_lst))]\n",
    "# reduset_tst_lst = reduset_tst_lst[np.logical_not(np.isnan(reduset_tst_lst))]"
   ]
  },
  {
   "cell_type": "markdown",
   "metadata": {},
   "source": [
    "Посмотрим на распределение уравненных выборок"
   ]
  },
  {
   "cell_type": "code",
   "execution_count": 36,
   "metadata": {},
   "outputs": [
    {
     "data": {
      "image/png": "[encoded data removed]",
      "text/plain": [
       "<Figure size 720x360 with 1 Axes>"
      ]
     },
     "metadata": {
      "needs_background": "light"
     },
     "output_type": "display_data"
    }
   ],
   "source": [
    "plt.figure(figsize=(10, 5))\n",
    "plt.title('Распределение средних чеков') \n",
    "plt.xlabel('Сумма чека') \n",
    "plt.ylabel('Количество оплат') \n",
    "\n",
    "plt.grid()\n",
    "\n",
    "plt.hist(reduset_tst_lst, \n",
    "         density=True,\n",
    "         alpha = 0.4, \n",
    "         bins = 50, \n",
    "         color = 'blue',\n",
    "        label = 'test') \n",
    "plt.hist(reduset_ctrl_lst, \n",
    "         density=True,\n",
    "         alpha = 0.4, \n",
    "         bins=50, \n",
    "         color = 'orange',\n",
    "        label = 'control')\n",
    "\n",
    "plt.legend()\n",
    "plt.show()"
   ]
  },
  {
   "cell_type": "code",
   "execution_count": 37,
   "metadata": {},
   "outputs": [],
   "source": [
    "??bs.bootstrap_ab"
   ]
  },
  {
   "cell_type": "code",
   "execution_count": 38,
   "metadata": {},
   "outputs": [],
   "source": [
    "boot_results = bs.bootstrap_ab(test = reduset_tst_lst, ctrl = reduset_ctrl_lst\n",
    "                              , stat_func = bs_stats.mean\n",
    "                              , compare_func = bs_compare.difference\n",
    "                              , return_distribution=True)"
   ]
  },
  {
   "cell_type": "markdown",
   "metadata": {},
   "source": [
    "Я возьму двусоронний критерий с точностью в 5%"
   ]
  },
  {
   "cell_type": "code",
   "execution_count": 39,
   "metadata": {},
   "outputs": [
    {
     "data": {
      "text/plain": [
       "array([-1878.40995086,   536.24238329])"
      ]
     },
     "execution_count": 39,
     "metadata": {},
     "output_type": "execute_result"
    }
   ],
   "source": [
    "borders = np.percentile(boot_results, [2.5, 97.5]) # считаем перцентили\n",
    "borders"
   ]
  },
  {
   "cell_type": "markdown",
   "metadata": {},
   "source": [
    "Уже по границам видно, что ноль попадает в доверительный интервал, но посмотрим распределение на графике, так нагляднее"
   ]
  },
  {
   "cell_type": "code",
   "execution_count": 40,
   "metadata": {},
   "outputs": [
    {
     "data": {
      "image/png": "[encoded data removed]",
      "text/plain": [
       "<Figure size 720x360 with 1 Axes>"
      ]
     },
     "metadata": {
      "needs_background": "light"
     },
     "output_type": "display_data"
    }
   ],
   "source": [
    "plt.figure(figsize=(10, 5))\n",
    "plt.title('Bootstrap-распределение разниц среднего чека')\n",
    "plt.hist(boot_results,\n",
    "        density=True,\n",
    "        bins = 150,\n",
    "        alpha = 0.5) \n",
    "plt.axvline(0, # отрисуем на графике ноль\n",
    "           ymin = 0, \n",
    "           ymax = 1, \n",
    "           linestyle= '--', \n",
    "           color = 'red')\n",
    "plt.axvline(borders[0], # отрисуем перцентиль\n",
    "           ymin = 0, \n",
    "           ymax = 1, \n",
    "           linestyle= '--', \n",
    "           color = 'grey', \n",
    "           label = '95%-доверительный интервал')\n",
    "plt.axvline(borders[1], # отрисуем перцентиль\n",
    "           ymin = 0, \n",
    "           ymax = 1, \n",
    "           linestyle= '--', \n",
    "           color = 'grey')\n",
    "plt.legend()\n",
    "plt.show()"
   ]
  },
  {
   "cell_type": "markdown",
   "metadata": {},
   "source": [
    "Ноль внутри доверительного интервала, значит мы не можем говорить о статзначимости разницы в средних чеках двух выборок. "
   ]
  },
  {
   "cell_type": "code",
   "execution_count": null,
   "metadata": {},
   "outputs": [],
   "source": []
  },
  {
   "cell_type": "code",
   "execution_count": null,
   "metadata": {},
   "outputs": [],
   "source": []
  },
  {
   "cell_type": "code",
   "execution_count": null,
   "metadata": {},
   "outputs": [],
   "source": []
  },
  {
   "cell_type": "code",
   "execution_count": null,
   "metadata": {},
   "outputs": [],
   "source": []
  },
  {
   "cell_type": "code",
   "execution_count": null,
   "metadata": {},
   "outputs": [],
   "source": []
  },
  {
   "cell_type": "markdown",
   "metadata": {},
   "source": [
    "# Я еще и конверсии считала зачем-то, пока оставлю\n",
    "\n",
    "Посчитаю конверсию в контрольной группе"
   ]
  },
  {
   "cell_type": "code",
   "execution_count": 41,
   "metadata": {},
   "outputs": [
    {
     "data": {
      "text/html": [
       "<div>\n",
       "<style scoped>\n",
       "    .dataframe tbody tr th:only-of-type {\n",
       "        vertical-align: middle;\n",
       "    }\n",
       "\n",
       "    .dataframe tbody tr th {\n",
       "        vertical-align: top;\n",
       "    }\n",
       "\n",
       "    .dataframe thead th {\n",
       "        text-align: right;\n",
       "    }\n",
       "</style>\n",
       "<table border=\"1\" class=\"dataframe\">\n",
       "  <thead>\n",
       "    <tr style=\"text-align: right;\">\n",
       "      <th></th>\n",
       "      <th>date</th>\n",
       "      <th>transactionId</th>\n",
       "    </tr>\n",
       "  </thead>\n",
       "  <tbody>\n",
       "    <tr>\n",
       "      <th>0</th>\n",
       "      <td>1</td>\n",
       "      <td>23</td>\n",
       "    </tr>\n",
       "    <tr>\n",
       "      <th>1</th>\n",
       "      <td>2</td>\n",
       "      <td>19</td>\n",
       "    </tr>\n",
       "    <tr>\n",
       "      <th>2</th>\n",
       "      <td>3</td>\n",
       "      <td>24</td>\n",
       "    </tr>\n",
       "    <tr>\n",
       "      <th>3</th>\n",
       "      <td>4</td>\n",
       "      <td>11</td>\n",
       "    </tr>\n",
       "    <tr>\n",
       "      <th>4</th>\n",
       "      <td>5</td>\n",
       "      <td>22</td>\n",
       "    </tr>\n",
       "  </tbody>\n",
       "</table>\n",
       "</div>"
      ],
      "text/plain": [
       "   date  transactionId\n",
       "0     1             23\n",
       "1     2             19\n",
       "2     3             24\n",
       "3     4             11\n",
       "4     5             22"
      ]
     },
     "execution_count": 41,
     "metadata": {},
     "output_type": "execute_result"
    }
   ],
   "source": [
    "# сгруппирую по дням количество заказов\n",
    "\n",
    "cntrl_count_trans = cntrl.groupby(cntrl['date'].dt.day)['transactionId'].count().reset_index()\n",
    "cntrl_count_trans.head()"
   ]
  },
  {
   "cell_type": "code",
   "execution_count": 42,
   "metadata": {},
   "outputs": [
    {
     "data": {
      "text/html": [
       "<div>\n",
       "<style scoped>\n",
       "    .dataframe tbody tr th:only-of-type {\n",
       "        vertical-align: middle;\n",
       "    }\n",
       "\n",
       "    .dataframe tbody tr th {\n",
       "        vertical-align: top;\n",
       "    }\n",
       "\n",
       "    .dataframe thead th {\n",
       "        text-align: right;\n",
       "    }\n",
       "</style>\n",
       "<table border=\"1\" class=\"dataframe\">\n",
       "  <thead>\n",
       "    <tr style=\"text-align: right;\">\n",
       "      <th></th>\n",
       "      <th>date_x</th>\n",
       "      <th>group</th>\n",
       "      <th>visitors</th>\n",
       "      <th>date_y</th>\n",
       "      <th>transactionId</th>\n",
       "    </tr>\n",
       "  </thead>\n",
       "  <tbody>\n",
       "    <tr>\n",
       "      <th>0</th>\n",
       "      <td>2019-08-01</td>\n",
       "      <td>A</td>\n",
       "      <td>719</td>\n",
       "      <td>1</td>\n",
       "      <td>23</td>\n",
       "    </tr>\n",
       "    <tr>\n",
       "      <th>1</th>\n",
       "      <td>2019-08-02</td>\n",
       "      <td>A</td>\n",
       "      <td>619</td>\n",
       "      <td>2</td>\n",
       "      <td>19</td>\n",
       "    </tr>\n",
       "    <tr>\n",
       "      <th>2</th>\n",
       "      <td>2019-08-03</td>\n",
       "      <td>A</td>\n",
       "      <td>507</td>\n",
       "      <td>3</td>\n",
       "      <td>24</td>\n",
       "    </tr>\n",
       "    <tr>\n",
       "      <th>3</th>\n",
       "      <td>2019-08-04</td>\n",
       "      <td>A</td>\n",
       "      <td>717</td>\n",
       "      <td>4</td>\n",
       "      <td>11</td>\n",
       "    </tr>\n",
       "    <tr>\n",
       "      <th>4</th>\n",
       "      <td>2019-08-05</td>\n",
       "      <td>A</td>\n",
       "      <td>756</td>\n",
       "      <td>5</td>\n",
       "      <td>22</td>\n",
       "    </tr>\n",
       "  </tbody>\n",
       "</table>\n",
       "</div>"
      ],
      "text/plain": [
       "      date_x group  visitors  date_y  transactionId\n",
       "0 2019-08-01     A       719       1             23\n",
       "1 2019-08-02     A       619       2             19\n",
       "2 2019-08-03     A       507       3             24\n",
       "3 2019-08-04     A       717       4             11\n",
       "4 2019-08-05     A       756       5             22"
      ]
     },
     "execution_count": 42,
     "metadata": {},
     "output_type": "execute_result"
    }
   ],
   "source": [
    "# сджойню заказы и визиты\n",
    "\n",
    "full_data_cntrl = pd.merge(control, cntrl_count_trans,\n",
    "      left_index=True, right_index=True)\n",
    "full_data_cntrl.head()"
   ]
  },
  {
   "cell_type": "code",
   "execution_count": 43,
   "metadata": {},
   "outputs": [
    {
     "data": {
      "text/html": [
       "<div>\n",
       "<style scoped>\n",
       "    .dataframe tbody tr th:only-of-type {\n",
       "        vertical-align: middle;\n",
       "    }\n",
       "\n",
       "    .dataframe tbody tr th {\n",
       "        vertical-align: top;\n",
       "    }\n",
       "\n",
       "    .dataframe thead th {\n",
       "        text-align: right;\n",
       "    }\n",
       "</style>\n",
       "<table border=\"1\" class=\"dataframe\">\n",
       "  <thead>\n",
       "    <tr style=\"text-align: right;\">\n",
       "      <th></th>\n",
       "      <th>date_x</th>\n",
       "      <th>group</th>\n",
       "      <th>visitors</th>\n",
       "      <th>date_y</th>\n",
       "      <th>transactionId</th>\n",
       "      <th>convertion</th>\n",
       "    </tr>\n",
       "  </thead>\n",
       "  <tbody>\n",
       "    <tr>\n",
       "      <th>0</th>\n",
       "      <td>2019-08-01</td>\n",
       "      <td>A</td>\n",
       "      <td>719</td>\n",
       "      <td>1</td>\n",
       "      <td>23</td>\n",
       "      <td>0.0320</td>\n",
       "    </tr>\n",
       "    <tr>\n",
       "      <th>1</th>\n",
       "      <td>2019-08-02</td>\n",
       "      <td>A</td>\n",
       "      <td>619</td>\n",
       "      <td>2</td>\n",
       "      <td>19</td>\n",
       "      <td>0.0307</td>\n",
       "    </tr>\n",
       "    <tr>\n",
       "      <th>2</th>\n",
       "      <td>2019-08-03</td>\n",
       "      <td>A</td>\n",
       "      <td>507</td>\n",
       "      <td>3</td>\n",
       "      <td>24</td>\n",
       "      <td>0.0473</td>\n",
       "    </tr>\n",
       "    <tr>\n",
       "      <th>3</th>\n",
       "      <td>2019-08-04</td>\n",
       "      <td>A</td>\n",
       "      <td>717</td>\n",
       "      <td>4</td>\n",
       "      <td>11</td>\n",
       "      <td>0.0153</td>\n",
       "    </tr>\n",
       "    <tr>\n",
       "      <th>4</th>\n",
       "      <td>2019-08-05</td>\n",
       "      <td>A</td>\n",
       "      <td>756</td>\n",
       "      <td>5</td>\n",
       "      <td>22</td>\n",
       "      <td>0.0291</td>\n",
       "    </tr>\n",
       "  </tbody>\n",
       "</table>\n",
       "</div>"
      ],
      "text/plain": [
       "      date_x group  visitors  date_y  transactionId  convertion\n",
       "0 2019-08-01     A       719       1             23      0.0320\n",
       "1 2019-08-02     A       619       2             19      0.0307\n",
       "2 2019-08-03     A       507       3             24      0.0473\n",
       "3 2019-08-04     A       717       4             11      0.0153\n",
       "4 2019-08-05     A       756       5             22      0.0291"
      ]
     },
     "execution_count": 43,
     "metadata": {},
     "output_type": "execute_result"
    }
   ],
   "source": [
    "# посчитаю конверсию\n",
    "\n",
    "full_data_cntrl['convertion'] = full_data_cntrl['transactionId']/full_data_cntrl['visitors']\n",
    "full_data_cntrl.head()"
   ]
  },
  {
   "cell_type": "code",
   "execution_count": null,
   "metadata": {},
   "outputs": [],
   "source": []
  },
  {
   "cell_type": "markdown",
   "metadata": {},
   "source": [
    "Все то же самое проделаю для тестовой группы"
   ]
  },
  {
   "cell_type": "code",
   "execution_count": 44,
   "metadata": {},
   "outputs": [
    {
     "data": {
      "text/html": [
       "<div>\n",
       "<style scoped>\n",
       "    .dataframe tbody tr th:only-of-type {\n",
       "        vertical-align: middle;\n",
       "    }\n",
       "\n",
       "    .dataframe tbody tr th {\n",
       "        vertical-align: top;\n",
       "    }\n",
       "\n",
       "    .dataframe thead th {\n",
       "        text-align: right;\n",
       "    }\n",
       "</style>\n",
       "<table border=\"1\" class=\"dataframe\">\n",
       "  <thead>\n",
       "    <tr style=\"text-align: right;\">\n",
       "      <th></th>\n",
       "      <th>index</th>\n",
       "      <th>date_x</th>\n",
       "      <th>group</th>\n",
       "      <th>visitors</th>\n",
       "      <th>date_y</th>\n",
       "      <th>transactionId</th>\n",
       "      <th>convertion</th>\n",
       "    </tr>\n",
       "  </thead>\n",
       "  <tbody>\n",
       "    <tr>\n",
       "      <th>0</th>\n",
       "      <td>31</td>\n",
       "      <td>2019-08-01</td>\n",
       "      <td>B</td>\n",
       "      <td>713</td>\n",
       "      <td>1</td>\n",
       "      <td>17</td>\n",
       "      <td>0.0238</td>\n",
       "    </tr>\n",
       "    <tr>\n",
       "      <th>1</th>\n",
       "      <td>32</td>\n",
       "      <td>2019-08-02</td>\n",
       "      <td>B</td>\n",
       "      <td>581</td>\n",
       "      <td>2</td>\n",
       "      <td>23</td>\n",
       "      <td>0.0396</td>\n",
       "    </tr>\n",
       "    <tr>\n",
       "      <th>2</th>\n",
       "      <td>33</td>\n",
       "      <td>2019-08-03</td>\n",
       "      <td>B</td>\n",
       "      <td>509</td>\n",
       "      <td>3</td>\n",
       "      <td>14</td>\n",
       "      <td>0.0275</td>\n",
       "    </tr>\n",
       "    <tr>\n",
       "      <th>3</th>\n",
       "      <td>34</td>\n",
       "      <td>2019-08-04</td>\n",
       "      <td>B</td>\n",
       "      <td>770</td>\n",
       "      <td>4</td>\n",
       "      <td>14</td>\n",
       "      <td>0.0182</td>\n",
       "    </tr>\n",
       "    <tr>\n",
       "      <th>4</th>\n",
       "      <td>35</td>\n",
       "      <td>2019-08-05</td>\n",
       "      <td>B</td>\n",
       "      <td>707</td>\n",
       "      <td>5</td>\n",
       "      <td>21</td>\n",
       "      <td>0.0297</td>\n",
       "    </tr>\n",
       "  </tbody>\n",
       "</table>\n",
       "</div>"
      ],
      "text/plain": [
       "   index     date_x group  visitors  date_y  transactionId  convertion\n",
       "0     31 2019-08-01     B       713       1             17      0.0238\n",
       "1     32 2019-08-02     B       581       2             23      0.0396\n",
       "2     33 2019-08-03     B       509       3             14      0.0275\n",
       "3     34 2019-08-04     B       770       4             14      0.0182\n",
       "4     35 2019-08-05     B       707       5             21      0.0297"
      ]
     },
     "execution_count": 44,
     "metadata": {},
     "output_type": "execute_result"
    }
   ],
   "source": [
    "# сгруппирую по дням количество заказов\n",
    "tst_count_trans = tst.groupby( tst['date'].dt.day)['transactionId'].count().reset_index()\n",
    "tst_count_trans.head()\n",
    "\n",
    "# обновлю индексы, чтобы они шли с 0\n",
    "test.reset_index(inplace = True)\n",
    "\n",
    "# сджойню заказы и визиты\n",
    "full_data_tst = pd.merge(test, tst_count_trans,\n",
    "      left_index=True, right_index=True)\n",
    "full_data_tst.head()\n",
    "\n",
    "# посчитаю конверсию\n",
    "full_data_tst['convertion'] = full_data_tst['transactionId']/full_data_tst['visitors']\n",
    "full_data_tst.head()"
   ]
  },
  {
   "cell_type": "markdown",
   "metadata": {},
   "source": [
    "Посмотрим основные статистики по выборкам"
   ]
  },
  {
   "cell_type": "code",
   "execution_count": 45,
   "metadata": {},
   "outputs": [
    {
     "data": {
      "text/html": [
       "<div>\n",
       "<style scoped>\n",
       "    .dataframe tbody tr th:only-of-type {\n",
       "        vertical-align: middle;\n",
       "    }\n",
       "\n",
       "    .dataframe tbody tr th {\n",
       "        vertical-align: top;\n",
       "    }\n",
       "\n",
       "    .dataframe thead th {\n",
       "        text-align: right;\n",
       "    }\n",
       "</style>\n",
       "<table border=\"1\" class=\"dataframe\">\n",
       "  <thead>\n",
       "    <tr style=\"text-align: right;\">\n",
       "      <th></th>\n",
       "      <th>index</th>\n",
       "      <th>visitors</th>\n",
       "      <th>date_y</th>\n",
       "      <th>transactionId</th>\n",
       "      <th>convertion</th>\n",
       "    </tr>\n",
       "  </thead>\n",
       "  <tbody>\n",
       "    <tr>\n",
       "      <th>count</th>\n",
       "      <td>31.0000</td>\n",
       "      <td>31.0000</td>\n",
       "      <td>31.0000</td>\n",
       "      <td>31.0000</td>\n",
       "      <td>31.0000</td>\n",
       "    </tr>\n",
       "    <tr>\n",
       "      <th>mean</th>\n",
       "      <td>46.0000</td>\n",
       "      <td>610.1935</td>\n",
       "      <td>16.0000</td>\n",
       "      <td>17.5484</td>\n",
       "      <td>0.0302</td>\n",
       "    </tr>\n",
       "    <tr>\n",
       "      <th>std</th>\n",
       "      <td>9.0921</td>\n",
       "      <td>118.1562</td>\n",
       "      <td>9.0921</td>\n",
       "      <td>4.5959</td>\n",
       "      <td>0.0107</td>\n",
       "    </tr>\n",
       "    <tr>\n",
       "      <th>min</th>\n",
       "      <td>31.0000</td>\n",
       "      <td>369.0000</td>\n",
       "      <td>1.0000</td>\n",
       "      <td>7.0000</td>\n",
       "      <td>0.0095</td>\n",
       "    </tr>\n",
       "    <tr>\n",
       "      <th>25%</th>\n",
       "      <td>38.5000</td>\n",
       "      <td>537.0000</td>\n",
       "      <td>8.5000</td>\n",
       "      <td>14.0000</td>\n",
       "      <td>0.0237</td>\n",
       "    </tr>\n",
       "    <tr>\n",
       "      <th>50%</th>\n",
       "      <td>46.0000</td>\n",
       "      <td>654.0000</td>\n",
       "      <td>16.0000</td>\n",
       "      <td>19.0000</td>\n",
       "      <td>0.0311</td>\n",
       "    </tr>\n",
       "    <tr>\n",
       "      <th>75%</th>\n",
       "      <td>53.5000</td>\n",
       "      <td>711.0000</td>\n",
       "      <td>23.5000</td>\n",
       "      <td>21.0000</td>\n",
       "      <td>0.0354</td>\n",
       "    </tr>\n",
       "    <tr>\n",
       "      <th>max</th>\n",
       "      <td>61.0000</td>\n",
       "      <td>770.0000</td>\n",
       "      <td>31.0000</td>\n",
       "      <td>25.0000</td>\n",
       "      <td>0.0596</td>\n",
       "    </tr>\n",
       "  </tbody>\n",
       "</table>\n",
       "</div>"
      ],
      "text/plain": [
       "        index  visitors  date_y  transactionId  convertion\n",
       "count 31.0000   31.0000 31.0000        31.0000     31.0000\n",
       "mean  46.0000  610.1935 16.0000        17.5484      0.0302\n",
       "std    9.0921  118.1562  9.0921         4.5959      0.0107\n",
       "min   31.0000  369.0000  1.0000         7.0000      0.0095\n",
       "25%   38.5000  537.0000  8.5000        14.0000      0.0237\n",
       "50%   46.0000  654.0000 16.0000        19.0000      0.0311\n",
       "75%   53.5000  711.0000 23.5000        21.0000      0.0354\n",
       "max   61.0000  770.0000 31.0000        25.0000      0.0596"
      ]
     },
     "execution_count": 45,
     "metadata": {},
     "output_type": "execute_result"
    }
   ],
   "source": [
    "full_data_tst.describe()"
   ]
  },
  {
   "cell_type": "code",
   "execution_count": 46,
   "metadata": {},
   "outputs": [
    {
     "data": {
      "text/html": [
       "<div>\n",
       "<style scoped>\n",
       "    .dataframe tbody tr th:only-of-type {\n",
       "        vertical-align: middle;\n",
       "    }\n",
       "\n",
       "    .dataframe tbody tr th {\n",
       "        vertical-align: top;\n",
       "    }\n",
       "\n",
       "    .dataframe thead th {\n",
       "        text-align: right;\n",
       "    }\n",
       "</style>\n",
       "<table border=\"1\" class=\"dataframe\">\n",
       "  <thead>\n",
       "    <tr style=\"text-align: right;\">\n",
       "      <th></th>\n",
       "      <th>visitors</th>\n",
       "      <th>date_y</th>\n",
       "      <th>transactionId</th>\n",
       "      <th>convertion</th>\n",
       "    </tr>\n",
       "  </thead>\n",
       "  <tbody>\n",
       "    <tr>\n",
       "      <th>count</th>\n",
       "      <td>31.0000</td>\n",
       "      <td>31.0000</td>\n",
       "      <td>31.0000</td>\n",
       "      <td>31.0000</td>\n",
       "    </tr>\n",
       "    <tr>\n",
       "      <th>mean</th>\n",
       "      <td>604.3871</td>\n",
       "      <td>16.0000</td>\n",
       "      <td>14.9355</td>\n",
       "      <td>0.0256</td>\n",
       "    </tr>\n",
       "    <tr>\n",
       "      <th>std</th>\n",
       "      <td>112.3962</td>\n",
       "      <td>9.0921</td>\n",
       "      <td>4.9459</td>\n",
       "      <td>0.0103</td>\n",
       "    </tr>\n",
       "    <tr>\n",
       "      <th>min</th>\n",
       "      <td>361.0000</td>\n",
       "      <td>1.0000</td>\n",
       "      <td>6.0000</td>\n",
       "      <td>0.0114</td>\n",
       "    </tr>\n",
       "    <tr>\n",
       "      <th>25%</th>\n",
       "      <td>541.0000</td>\n",
       "      <td>8.5000</td>\n",
       "      <td>10.5000</td>\n",
       "      <td>0.0169</td>\n",
       "    </tr>\n",
       "    <tr>\n",
       "      <th>50%</th>\n",
       "      <td>619.0000</td>\n",
       "      <td>16.0000</td>\n",
       "      <td>15.0000</td>\n",
       "      <td>0.0231</td>\n",
       "    </tr>\n",
       "    <tr>\n",
       "      <th>75%</th>\n",
       "      <td>705.0000</td>\n",
       "      <td>23.5000</td>\n",
       "      <td>18.5000</td>\n",
       "      <td>0.0313</td>\n",
       "    </tr>\n",
       "    <tr>\n",
       "      <th>max</th>\n",
       "      <td>756.0000</td>\n",
       "      <td>31.0000</td>\n",
       "      <td>24.0000</td>\n",
       "      <td>0.0499</td>\n",
       "    </tr>\n",
       "  </tbody>\n",
       "</table>\n",
       "</div>"
      ],
      "text/plain": [
       "       visitors  date_y  transactionId  convertion\n",
       "count   31.0000 31.0000        31.0000     31.0000\n",
       "mean   604.3871 16.0000        14.9355      0.0256\n",
       "std    112.3962  9.0921         4.9459      0.0103\n",
       "min    361.0000  1.0000         6.0000      0.0114\n",
       "25%    541.0000  8.5000        10.5000      0.0169\n",
       "50%    619.0000 16.0000        15.0000      0.0231\n",
       "75%    705.0000 23.5000        18.5000      0.0313\n",
       "max    756.0000 31.0000        24.0000      0.0499"
      ]
     },
     "execution_count": 46,
     "metadata": {},
     "output_type": "execute_result"
    }
   ],
   "source": [
    "full_data_cntrl.describe()"
   ]
  },
  {
   "cell_type": "markdown",
   "metadata": {},
   "source": [
    "заведу переменные для средних"
   ]
  },
  {
   "cell_type": "code",
   "execution_count": 47,
   "metadata": {},
   "outputs": [
    {
     "data": {
      "text/plain": [
       "0.030204339441940675"
      ]
     },
     "execution_count": 47,
     "metadata": {},
     "output_type": "execute_result"
    }
   ],
   "source": [
    "tst_mean = full_data_tst['convertion'].mean()\n",
    "tst_mean"
   ]
  },
  {
   "cell_type": "code",
   "execution_count": 48,
   "metadata": {},
   "outputs": [
    {
     "data": {
      "text/plain": [
       "0.02563653353637501"
      ]
     },
     "execution_count": 48,
     "metadata": {},
     "output_type": "execute_result"
    }
   ],
   "source": [
    "cntrl_mean = full_data_cntrl['convertion'].mean()\n",
    "cntrl_mean"
   ]
  },
  {
   "cell_type": "markdown",
   "metadata": {},
   "source": [
    "Посмотрю визуально, как распределились конверсии"
   ]
  },
  {
   "cell_type": "code",
   "execution_count": 49,
   "metadata": {},
   "outputs": [
    {
     "data": {
      "image/png": "[encoded data removed]",
      "text/plain": [
       "<Figure size 1440x360 with 1 Axes>"
      ]
     },
     "metadata": {
      "needs_background": "light"
     },
     "output_type": "display_data"
    }
   ],
   "source": [
    "\n",
    "plt.figure(figsize=(20, 5))\n",
    "plt.title('Распределение конверсий по дням') \n",
    "plt.grid() \n",
    "\n",
    "plt.plot(full_data_cntrl['date_x'], \n",
    "         full_data_cntrl['convertion'],\n",
    "         color = 'blue',\n",
    "         label = 'control') \n",
    "plt.plot(full_data_tst['date_x'],\n",
    "         full_data_tst['convertion'],\n",
    "          color = 'orange', \n",
    "         label = 'test') \n",
    "plt.axhline(cntrl_mean, # отрисуем перцентили\n",
    "           xmin = 0, \n",
    "           xmax = 1, \n",
    "           color = 'blue',\n",
    "           ls = '--',\n",
    "           label = 'cntrl_mean')\n",
    "plt.axhline(tst_mean, # отрисуем перцентили\n",
    "           xmin = 0, \n",
    "           xmax = 1, \n",
    "            ls = '--',\n",
    "            color = 'orange',\n",
    "            label = 'test_mean')\n",
    "\n",
    "plt.legend()\n",
    "plt.show() "
   ]
  },
  {
   "cell_type": "code",
   "execution_count": null,
   "metadata": {},
   "outputs": [],
   "source": []
  }
 ],
 "metadata": {
  "kernelspec": {
   "display_name": "Python 3",
   "language": "python",
   "name": "python3"
  },
  "language_info": {
   "codemirror_mode": {
    "name": "ipython",
    "version": 3
   },
   "file_extension": ".py",
   "mimetype": "text/x-python",
   "name": "python",
   "nbconvert_exporter": "python",
   "pygments_lexer": "ipython3",
   "version": "3.8.3"
  }
 },
 "nbformat": 4,
 "nbformat_minor": 4
}
